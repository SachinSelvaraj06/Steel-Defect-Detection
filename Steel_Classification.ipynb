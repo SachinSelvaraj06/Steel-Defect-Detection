{
  "nbformat": 4,
  "nbformat_minor": 0,
  "metadata": {
    "colab": {
      "provenance": [],
      "authorship_tag": "ABX9TyM2rTO3VXocy7HSuOpBxhuo",
      "include_colab_link": true
    },
    "kernelspec": {
      "name": "python3",
      "display_name": "Python 3"
    },
    "language_info": {
      "name": "python"
    }
  },
  "cells": [
    {
      "cell_type": "markdown",
      "metadata": {
        "id": "view-in-github",
        "colab_type": "text"
      },
      "source": [
        "<a href=\"https://colab.research.google.com/github/SachinSelvaraj06/Steel-Defect-Detection/blob/main/Steel_Classification.ipynb\" target=\"_parent\"><img src=\"https://colab.research.google.com/assets/colab-badge.svg\" alt=\"Open In Colab\"/></a>"
      ]
    },
    {
      "cell_type": "code",
      "execution_count": 57,
      "metadata": {
        "id": "M9f3kOzIN88Z"
      },
      "outputs": [],
      "source": [
        "import os\n",
        "import pandas as pd\n",
        "from PIL import Image\n",
        "from torch.utils.data import Dataset, DataLoader\n",
        "import torch\n",
        "import torch.nn as nn\n",
        "import torch.optim as optim\n",
        "from torchvision import transforms\n",
        "from tqdm import tqdm"
      ]
    },
    {
      "cell_type": "code",
      "source": [
        "train_csv = '/content/steel/train.csv'\n",
        "train_img_dir = '/content/steel/train_images'\n",
        "test_img_dir = '/content/steel/test_images'"
      ],
      "metadata": {
        "id": "WfloIOv0Ra-I"
      },
      "execution_count": 58,
      "outputs": []
    },
    {
      "cell_type": "code",
      "source": [
        "class DefectDataset(Dataset):\n",
        "    def __init__(self, img_dir, csv_file=None, transform=None, train=True):\n",
        "        self.img_dir = img_dir\n",
        "        self.transform = transform\n",
        "        self.train = train\n",
        "\n",
        "\n",
        "        self.image_names = [f for f in os.listdir(img_dir) if f.endswith('.jpg') or f.endswith('.png')]\n",
        "\n",
        "        if train:\n",
        "\n",
        "            if isinstance(csv_file, str):\n",
        "                self.data = pd.read_csv(csv_file)\n",
        "            else:\n",
        "                self.data = csv_file\n",
        "\n",
        "\n",
        "            self.labels = {}\n",
        "            for _, row in self.data.iterrows():\n",
        "                img = row['ImageId']\n",
        "                cls = row['ClassId']\n",
        "                if img in self.image_names:\n",
        "                    self.labels[img] = cls - 1\n",
        "\n",
        "\n",
        "            self.image_names = [img for img in self.image_names if img in self.labels]\n",
        "\n",
        "    def __len__(self):\n",
        "        return len(self.image_names)\n",
        "\n",
        "    def __getitem__(self, idx):\n",
        "        img_name = self.image_names[idx]\n",
        "        img_path = os.path.join(self.img_dir, img_name)\n",
        "        image = Image.open(img_path).convert(\"RGB\")\n",
        "\n",
        "        if self.transform:\n",
        "            image = self.transform(image)\n",
        "\n",
        "        if self.train:\n",
        "            label = self.labels[img_name]\n",
        "            return image, label\n",
        "        else:\n",
        "            return image, img_name\n"
      ],
      "metadata": {
        "id": "PAIfmpiKXOuq"
      },
      "execution_count": 59,
      "outputs": []
    },
    {
      "cell_type": "code",
      "source": [
        "transform = transforms.Compose([\n",
        "    transforms.Resize((128,128)),\n",
        "    transforms.ToTensor(),\n",
        "])"
      ],
      "metadata": {
        "id": "N9sl4mOhXSgw"
      },
      "execution_count": 60,
      "outputs": []
    },
    {
      "cell_type": "code",
      "source": [
        "train_dataset = DefectDataset(csv_file=train_csv, img_dir=train_img_dir, transform=transform, train=True)\n",
        "train_loader = DataLoader(train_dataset, batch_size=32, shuffle=True)\n",
        "\n",
        "test_dataset = DefectDataset(img_dir=test_img_dir, transform=transform, train=False)\n",
        "test_loader = DataLoader(test_dataset, batch_size=32, shuffle=False)"
      ],
      "metadata": {
        "id": "7D9Ahm2VXV-C"
      },
      "execution_count": 61,
      "outputs": []
    },
    {
      "cell_type": "code",
      "source": [
        "class SimpleCNN(nn.Module):\n",
        "    def __init__(self):\n",
        "        super(SimpleCNN, self).__init__()\n",
        "        self.features = nn.Sequential(\n",
        "            nn.Conv2d(3, 16, 3, padding=1),\n",
        "            nn.ReLU(),\n",
        "            nn.MaxPool2d(2),\n",
        "\n",
        "            nn.Conv2d(16, 32, 3, padding=1),\n",
        "            nn.ReLU(),\n",
        "            nn.MaxPool2d(2),\n",
        "\n",
        "            nn.Conv2d(32, 64, 3, padding=1),\n",
        "            nn.ReLU(),\n",
        "            nn.MaxPool2d(2),\n",
        "        )\n",
        "        self.classifier = nn.Sequential(\n",
        "            nn.Flatten(),\n",
        "            nn.Linear(16*16*64, 128),\n",
        "            nn.ReLU(),\n",
        "            nn.Linear(128, 4)\n",
        "        )\n",
        "\n",
        "    def forward(self, x):\n",
        "        x = self.features(x)\n",
        "        x = self.classifier(x)\n",
        "        return x\n",
        "\n",
        "device = torch.device(\"cuda\" if torch.cuda.is_available() else \"cpu\")\n",
        "model = SimpleCNN().to(device)"
      ],
      "metadata": {
        "id": "K14WnjbNXadJ"
      },
      "execution_count": 62,
      "outputs": []
    },
    {
      "cell_type": "code",
      "source": [
        "criterion = nn.CrossEntropyLoss()\n",
        "optimizer = optim.Adam(model.parameters(), lr=0.001)"
      ],
      "metadata": {
        "id": "WbQu2RH3XhGA"
      },
      "execution_count": 63,
      "outputs": []
    },
    {
      "cell_type": "code",
      "source": [
        "model.train()\n",
        "for images, labels in tqdm(train_loader):\n",
        "    images = images.to(device)\n",
        "    labels = labels.long().to(device)\n",
        "\n",
        "    optimizer.zero_grad()\n",
        "    outputs = model(images)\n",
        "    loss = criterion(outputs, labels)\n",
        "    loss.backward()\n",
        "    optimizer.step()\n"
      ],
      "metadata": {
        "colab": {
          "base_uri": "https://localhost:8080/"
        },
        "id": "9Mpgb6oCXq8c",
        "outputId": "3be65a4b-3f14-4254-a303-bdb1dc8a624b"
      },
      "execution_count": 64,
      "outputs": [
        {
          "output_type": "stream",
          "name": "stderr",
          "text": [
            "100%|██████████| 1/1 [00:00<00:00,  3.14it/s]\n"
          ]
        }
      ]
    },
    {
      "cell_type": "code",
      "source": [
        "model.eval()\n",
        "predictions = []\n",
        "with torch.no_grad():\n",
        "    for images, img_names in tqdm(test_loader):\n",
        "        images = images.to(device)\n",
        "        outputs = model(images)\n",
        "        _, preds = torch.max(outputs, 1)\n",
        "        preds = preds.cpu().numpy()\n",
        "\n",
        "        for img_name, pred in zip(img_names, preds):\n",
        "\n",
        "            predictions.append({'ImageId': img_name, 'ClassId': pred + 1})"
      ],
      "metadata": {
        "colab": {
          "base_uri": "https://localhost:8080/"
        },
        "id": "f8v1KU49XvYc",
        "outputId": "56649e15-45da-40ad-97a6-f23928124a25"
      },
      "execution_count": 65,
      "outputs": [
        {
          "output_type": "stream",
          "name": "stderr",
          "text": [
            "100%|██████████| 1/1 [00:00<00:00,  2.31it/s]\n"
          ]
        }
      ]
    },
    {
      "cell_type": "code",
      "source": [
        "submission_df = pd.DataFrame(predictions)\n",
        "submission_df.to_csv('/content/submission.csv', index=False)\n",
        "print(\"Submission file saved to /content/submission.csv\")"
      ],
      "metadata": {
        "colab": {
          "base_uri": "https://localhost:8080/"
        },
        "id": "o7tsRQ5ubS6K",
        "outputId": "c94ef711-f3c5-481d-ac80-4b495b3ad9bb"
      },
      "execution_count": 66,
      "outputs": [
        {
          "output_type": "stream",
          "name": "stdout",
          "text": [
            "Submission file saved to /content/submission.csv\n"
          ]
        }
      ]
    }
  ]
}